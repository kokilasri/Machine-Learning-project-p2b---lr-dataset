{
  "nbformat": 4,
  "nbformat_minor": 0,
  "metadata": {
    "colab": {
      "name": "Machine Learning Project.ipynb",
      "provenance": [],
      "authorship_tag": "ABX9TyPaAmDGVRcAwLfn4vaXoEFm",
      "include_colab_link": true
    },
    "kernelspec": {
      "name": "python3",
      "display_name": "Python 3"
    }
  },
  "cells": [
    {
      "cell_type": "markdown",
      "metadata": {
        "id": "view-in-github",
        "colab_type": "text"
      },
      "source": [
        "<a href=\"https://colab.research.google.com/github/kokilasri/Machine-Learning-project-p2b---lr-dataset/blob/main/Machine_Learning_Project.ipynb\" target=\"_parent\"><img src=\"https://colab.research.google.com/assets/colab-badge.svg\" alt=\"Open In Colab\"/></a>"
      ]
    },
    {
      "cell_type": "code",
      "metadata": {
        "id": "qKgCTgnkbVRa"
      },
      "source": [
        "import pandas as pd\r\n",
        "import numpy as np\r\n",
        "import matplotlib.pyplot as plt\r\n",
        "from sklearn import model_selection\r\n",
        "from sklearn.linear_model import LinearRegression"
      ],
      "execution_count": 1,
      "outputs": []
    },
    {
      "cell_type": "code",
      "metadata": {
        "colab": {
          "base_uri": "https://localhost:8080/",
          "height": 195
        },
        "id": "Vu_24dCTcdNa",
        "outputId": "8f92e637-95d1-475b-e4f7-d98e0c931819"
      },
      "source": [
        "data = pd.read_csv(\"lrdata.csv\")\r\n",
        "data.head()"
      ],
      "execution_count": 5,
      "outputs": [
        {
          "output_type": "execute_result",
          "data": {
            "text/html": [
              "<div>\n",
              "<style scoped>\n",
              "    .dataframe tbody tr th:only-of-type {\n",
              "        vertical-align: middle;\n",
              "    }\n",
              "\n",
              "    .dataframe tbody tr th {\n",
              "        vertical-align: top;\n",
              "    }\n",
              "\n",
              "    .dataframe thead th {\n",
              "        text-align: right;\n",
              "    }\n",
              "</style>\n",
              "<table border=\"1\" class=\"dataframe\">\n",
              "  <thead>\n",
              "    <tr style=\"text-align: right;\">\n",
              "      <th></th>\n",
              "      <th>cases</th>\n",
              "      <th>increasingrate</th>\n",
              "      <th>decreasingrate</th>\n",
              "      <th>time</th>\n",
              "    </tr>\n",
              "  </thead>\n",
              "  <tbody>\n",
              "    <tr>\n",
              "      <th>0</th>\n",
              "      <td>18</td>\n",
              "      <td>15.960</td>\n",
              "      <td>53.13</td>\n",
              "      <td>1121.8739</td>\n",
              "    </tr>\n",
              "    <tr>\n",
              "      <th>1</th>\n",
              "      <td>21</td>\n",
              "      <td>16.815</td>\n",
              "      <td>52.58</td>\n",
              "      <td>1131.5066</td>\n",
              "    </tr>\n",
              "    <tr>\n",
              "      <th>2</th>\n",
              "      <td>38</td>\n",
              "      <td>16.815</td>\n",
              "      <td>50.38</td>\n",
              "      <td>1135.9407</td>\n",
              "    </tr>\n",
              "    <tr>\n",
              "      <th>3</th>\n",
              "      <td>26</td>\n",
              "      <td>17.195</td>\n",
              "      <td>49.06</td>\n",
              "      <td>1136.3994</td>\n",
              "    </tr>\n",
              "    <tr>\n",
              "      <th>4</th>\n",
              "      <td>18</td>\n",
              "      <td>17.290</td>\n",
              "      <td>48.07</td>\n",
              "      <td>1137.0110</td>\n",
              "    </tr>\n",
              "  </tbody>\n",
              "</table>\n",
              "</div>"
            ],
            "text/plain": [
              "   cases  increasingrate  decreasingrate       time\n",
              "0     18          15.960           53.13  1121.8739\n",
              "1     21          16.815           52.58  1131.5066\n",
              "2     38          16.815           50.38  1135.9407\n",
              "3     26          17.195           49.06  1136.3994\n",
              "4     18          17.290           48.07  1137.0110"
            ]
          },
          "metadata": {
            "tags": []
          },
          "execution_count": 5
        }
      ]
    },
    {
      "cell_type": "code",
      "metadata": {
        "id": "33v1fuxscire"
      },
      "source": [
        "y = data['time']\r\n",
        "x = data[['cases', 'increasingrate', 'decreasingrate']]"
      ],
      "execution_count": 7,
      "outputs": []
    },
    {
      "cell_type": "code",
      "metadata": {
        "id": "wQUNt4RHdHt3"
      },
      "source": [
        "def CasesReg (x, y):\r\n",
        "    from sklearn.linear_model import LinearRegression\r\n",
        "    reg = LinearRegression()\r\n",
        "    reg.fit(x, y)\r\n",
        "    return reg"
      ],
      "execution_count": 8,
      "outputs": []
    },
    {
      "cell_type": "code",
      "metadata": {
        "id": "MXuEqTlcdgcz"
      },
      "source": [
        "x_train, x_test, y_train, y_test = model_selection.train_test_split(x, y)"
      ],
      "execution_count": 9,
      "outputs": []
    },
    {
      "cell_type": "code",
      "metadata": {
        "id": "DTg_v0wvdn_0"
      },
      "source": [
        "reg = CasesReg(x_train, y_train)"
      ],
      "execution_count": 10,
      "outputs": []
    },
    {
      "cell_type": "code",
      "metadata": {
        "colab": {
          "base_uri": "https://localhost:8080/"
        },
        "id": "oiRcc3AYdwAP",
        "outputId": "cfb71977-a177-4cb8-87a8-e126931629b5"
      },
      "source": [
        "y_pred = reg.predict(x_test)\r\n",
        "y_pred"
      ],
      "execution_count": 12,
      "outputs": [
        {
          "output_type": "execute_result",
          "data": {
            "text/plain": [
              "array([  5441.91204982,  26004.44640216,  18187.91521274,  11770.26189602,\n",
              "        31911.35999453,  17232.80858527,   9916.92095198,  30834.42154337,\n",
              "        22007.24421499,   6714.14256722,  14498.85387957,  24796.82546185,\n",
              "         9265.30224147,   8957.85162902,  -2337.55509505,  14114.24662868,\n",
              "        21044.54649892,   3613.73793385,  18630.15692908,  11870.83747603,\n",
              "        26083.21282018,  20001.74904874,   2077.16780879,   7718.35218906,\n",
              "        30997.61987893,   2054.24576419,  23323.57927278,   5738.804507  ,\n",
              "         9145.84183525,  35216.95274797,   4974.05480878,  -3722.72247189,\n",
              "       -10620.67871204,  16278.16941431,   7146.06297877,  11045.03207962,\n",
              "        18459.2083039 ,  11676.90296389,   2930.45308651,   9903.22087833,\n",
              "         1279.0629855 ,    511.01165123,   7664.10430479,   3201.92700681,\n",
              "        -3945.20439849,    829.26457378,  -8468.62500279,  16305.67586784,\n",
              "         4047.83590161,  12754.5241026 ,  32292.41337521,  26368.43996724,\n",
              "        24621.59259523,  11413.08136465,   3113.88285482,   7672.50809985,\n",
              "         4493.51736093,   7926.93757955,   -757.21864222,  14989.18681147,\n",
              "         4098.26439975,  11471.81542227,  14431.95757181,  -9988.94149857,\n",
              "        24426.77085373,  32245.8230231 ,  -3172.46573396,   1841.29640693,\n",
              "        27634.6865744 ,  23164.11824646,  -4978.89426328,  13440.82109906,\n",
              "         3659.01111986,   4108.43744242,  -1012.87252188,   7556.30946701,\n",
              "        24772.99768632,  -5405.68047416,   6812.0116437 ,  38253.67463795,\n",
              "        35505.39372642, -10637.05636542,  31362.18434721,  -8071.01365626,\n",
              "        11574.10422854,   -927.46608696,  23578.53744145,   9221.9364013 ,\n",
              "         3858.49413607,  27361.44392316,   7648.35357594,  -2765.09277993,\n",
              "         7288.17965533,  12273.98404485,   2674.82030963,  24832.5950023 ,\n",
              "        29959.99389088,  17199.67363532,   1179.02130557,  14771.16421899,\n",
              "        -2255.88049126,  26347.23636001,  20568.61456277,  23113.06543368,\n",
              "         7361.85173535,   -331.90932379,   7717.3083599 ,  21473.66999238,\n",
              "        17789.89972669,   4909.09738054,  11544.23652143,   8996.62784916,\n",
              "        41349.16831373,   -902.98481468,   8416.21365018,  -1194.58880559,\n",
              "        -2921.66673193,  18578.29662095,   9744.82765217,   8688.36192036,\n",
              "        27490.13412135,  17909.27518779,  16305.20841133,   6111.44367039,\n",
              "        -2126.10894413,   5428.15882305,  13630.57221523,  18037.53519091,\n",
              "        21445.9269467 ,   9545.79880204,  10019.66392432,  -5993.74672719,\n",
              "        -1799.27425694,  -6614.61284411,   5478.58732119,  14924.55613161,\n",
              "        22666.7278677 ,   -843.94511145,  26081.63509094,  12368.43995926,\n",
              "        20668.37743632,   4653.18579729,  22680.48109447,  10554.69627949,\n",
              "         5104.85403507,   6270.41587909,  23438.37814596,  -3045.21750966,\n",
              "        10904.78522911,   1695.45832146,  22944.5364263 ,  21162.1740822 ,\n",
              "        -9661.68961478,  14544.41916241,  23347.35389519,  13513.23672878,\n",
              "         7945.96597345,   7424.09458073,   1515.93835385,    293.74861209,\n",
              "        20298.3228282 ,  11881.05273292,  17570.80151304,   7600.01273612,\n",
              "         1849.41878572,  33678.98911639,  -3563.90165189,  13643.11172259,\n",
              "         8373.42392432,   4609.55939396,   3696.25729443,   8037.24766948,\n",
              "        20444.83552189,  24931.61161296,  11754.88559923,  16963.20449103,\n",
              "        -8707.99738009,  14242.61007848,   8601.64066224,   2497.12248441,\n",
              "        24754.54045395,  32275.38248339,  16284.15619278,  10039.28433287,\n",
              "         8309.02436716,  16032.33212148,  12058.80345292,  -9033.60661663,\n",
              "        -2408.99880861,   6976.09695029,   9167.64031669,   4076.34657997,\n",
              "        37369.52312295,  17257.87926231,  11366.3023624 ,  22089.95222572,\n",
              "        24812.22286142,  13404.14582769,  15910.60634569,  12043.95089232,\n",
              "        -3589.97629542,   2173.81769643,   4005.19522156,  23012.2084374 ,\n",
              "        20459.78657639,  14350.72098408,   1387.57490405,  11994.62172802,\n",
              "        35316.88316889,   7210.24470367,  12979.37823034,   4730.27599215,\n",
              "        20429.12205449,  10561.52781475,  26090.32863126,  17257.87926231,\n",
              "        22495.01682096,   3199.58972423,  12254.83370271,  14436.54198073,\n",
              "        24909.15702487,  16279.57178386,  39400.04360863,   1278.21301759,\n",
              "         5580.87612746,  16147.94917056,  37987.94357466,   3145.01483324,\n",
              "         8668.59794412,  32454.20934122,   -172.64215872,   9554.96761988,\n",
              "         5337.1449945 ,   3594.82939496, -10425.67665807,  21705.53101508,\n",
              "         9453.061325  ,  30455.35758544,   9294.90964377,  19034.92656794,\n",
              "         1223.20011053,   7473.32786102,   2326.53500083,  -1697.18243848,\n",
              "         6511.28104049,  29625.57072498,   6428.39220063,   5536.51388347,\n",
              "        22896.83319158,   6590.36352634,   6513.18786967,  11315.87386426,\n",
              "        22641.91202603,   9401.78807007,  27924.65994129,   9317.83168838,\n",
              "        20391.29924894,   8127.05298974,   2432.15723517,  -1702.23951503,\n",
              "         8791.47125408,  30501.17770365,  35175.69306768,   9504.69833144,\n",
              "         9891.52873766,  11067.30348701,   7048.65067824,  -4071.91872271,\n",
              "         8074.32942325,   9889.41449845,   3981.80572044,  -1851.39226867,\n",
              "         8768.54920948,  12276.2791132 ,   7854.98940635,  37856.81238888,\n",
              "         5665.8789482 ,  13511.37758327,   7814.33814904,   1173.6215803 ,\n",
              "        13647.57392494,   7456.85484029,  14561.37553132,     77.02494247,\n",
              "        21992.26397838,  25274.00029952,   9228.6269701 ,   9732.82465479,\n",
              "        17200.14109184,   3049.70112992,  20764.65002367,  19413.17520952,\n",
              "       -10645.35409576,  32785.44004553,  23953.12069548,   5016.90029765,\n",
              "        15358.71298895,   -667.28069317,  23801.65958304,  -1784.77476728,\n",
              "        15707.50822682,  16318.96163809,    950.70633208,  -5461.80860672,\n",
              "         1205.71244275,  11189.98840517,    -73.16642921,  23401.70287459,\n",
              "        35138.18137718,  22067.03018112,   8102.57692856,  27846.30782668,\n",
              "         3423.87790155,  18349.4240347 ,  12756.30377243,  20327.11752404,\n",
              "        19937.56732384,  25715.25916083,  14083.39345664,   8056.73283934,\n",
              "        22107.53030807,   8478.29963742,  11989.2670852 ,  27487.98548891,\n",
              "        17189.11312849,  15648.962561  ,  11219.80295917,   2656.59159007,\n",
              "        14168.11200156,   9871.06357232,  18958.06983865,   9803.41032111,\n",
              "         4478.11214036,  13694.00767724,  19464.55712225])"
            ]
          },
          "metadata": {
            "tags": []
          },
          "execution_count": 12
        }
      ]
    },
    {
      "cell_type": "code",
      "metadata": {
        "colab": {
          "base_uri": "https://localhost:8080/"
        },
        "id": "EQa1PHzSd1JA",
        "outputId": "4af35ec1-7b9c-49ce-b750-a697dfbebdb8"
      },
      "source": [
        "reg.score(x_test, y_test)"
      ],
      "execution_count": 13,
      "outputs": [
        {
          "output_type": "execute_result",
          "data": {
            "text/plain": [
              "0.8510195968910914"
            ]
          },
          "metadata": {
            "tags": []
          },
          "execution_count": 13
        }
      ]
    },
    {
      "cell_type": "code",
      "metadata": {
        "colab": {
          "base_uri": "https://localhost:8080/",
          "height": 279
        },
        "id": "RqNaer07d8Wt",
        "outputId": "15e2ed53-a37e-474c-ab3a-32685a7f52f3"
      },
      "source": [
        "plt.plot(x, reg.predict(x), '*')\r\n",
        "plt.legend(labels=['cases', 'increasingrate', 'decreasingrate'])\r\n",
        "plt.xlabel('Cases Rate')\r\n",
        "plt.ylabel('Time')\r\n",
        "plt.show()"
      ],
      "execution_count": 14,
      "outputs": [
        {
          "output_type": "display_data",
          "data": {
            "image/png": "[encoded data removed]",
            "text/plain": [
              "<Figure size 432x288 with 1 Axes>"
            ]
          },
          "metadata": {
            "tags": [],
            "needs_background": "light"
          }
        }
      ]
    },
    {
      "cell_type": "code",
      "metadata": {
        "id": "xaPjNRDTeaeY"
      },
      "source": [
        ""
      ],
      "execution_count": null,
      "outputs": []
    }
  ]
}